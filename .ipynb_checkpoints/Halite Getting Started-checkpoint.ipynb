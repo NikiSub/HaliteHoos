{
 "cells": [
  {
   "cell_type": "markdown",
   "metadata": {},
   "source": [
    "# Install kaggle-environments"
   ]
  },
  {
   "cell_type": "code",
   "execution_count": 2,
   "metadata": {
    "_cell_guid": "b1076dfc-b9ad-4769-8c92-a6c4dae69d19",
    "_uuid": "8f2839f25d086af736a60e9eeb907d3b93b6e0e5"
   },
   "outputs": [
    {
     "name": "stderr",
     "output_type": "stream",
     "text": [
      "ERROR: Invalid requirement: \"'kaggle-environments\"\n",
      "WARNING: You are using pip version 20.0.2; however, version 20.1 is available.\n",
      "You should consider upgrading via the 'c:\\users\\phill\\anaconda3\\python.exe -m pip install --upgrade pip' command.\n"
     ]
    }
   ],
   "source": [
    "# 1. Enable Internet in the Kernel (Settings side pane)\n",
    "\n",
    "# 2. Curl cache may need purged if v0.1.6 cannot be found (uncomment if needed). \n",
    "# !curl -X PURGE https://pypi.org/simple/kaggle-environments\n",
    "\n",
    "# Halite environment was defined in v0.2.1\n",
    "!pip install 'kaggle-environments>=0.2.1'"
   ]
  },
  {
   "cell_type": "markdown",
   "metadata": {},
   "source": [
    "# Create Halite Environment"
   ]
  },
  {
   "cell_type": "code",
   "execution_count": null,
   "metadata": {
    "_cell_guid": "79c7e3d0-c299-4dcb-8224-4455121ee9b0",
    "_uuid": "d629ff2d2480ee46fbb7e2d37f6b5fab8052498a"
   },
   "outputs": [],
   "source": [
    "from kaggle_environments import evaluate, make\n",
    "\n",
    "env = make(\"halite\", debug=True)\n",
    "env.render()"
   ]
  },
  {
   "cell_type": "markdown",
   "metadata": {},
   "source": [
    "# Create a Submission (agent)\n",
    "\n",
    "To submit to the competition, a python file must be created where the last function is the \"act\" (the function which given an observation generates an action).  Logic above the \"act\" function is allowed including helpers.  Any python that executes immediately will be run during the initialize phase and not included in the \"act timeout\".\n",
    "\n",
    "When your agent is being evaluated against others, it will not have access to the Kaggle docker image. Only the following can be imported: Python Standard Library Modules, gym, numpy, scipy, pytorch (1.3.1, cpu only), and more may be added later."
   ]
  },
  {
   "cell_type": "code",
   "execution_count": null,
   "metadata": {},
   "outputs": [],
   "source": [
    "%%writefile submission.py\n",
    "\n",
    "from random import choice\n",
    "def agent(obs):\n",
    "    action = {}\n",
    "    ship_id = list(obs.players[obs.player][2].keys())[0]\n",
    "    ship_action = choice([\"NORTH\", \"SOUTH\", \"EAST\", \"WEST\", None])\n",
    "    if ship_action is not None:\n",
    "        action[ship_id] = ship_action\n",
    "    return action"
   ]
  },
  {
   "cell_type": "markdown",
   "metadata": {},
   "source": [
    "# Test your Agent"
   ]
  },
  {
   "cell_type": "code",
   "execution_count": null,
   "metadata": {},
   "outputs": [],
   "source": [
    "# Play against yourself without an ERROR or INVALID.\n",
    "# Note: The first episode in the competition will run this to weed out erroneous agents.\n",
    "env.run([\"/kaggle/working/submission.py\", \"/kaggle/working/submission.py\"])\n",
    "print(\"EXCELLENT SUBMISSION!\" if env.toJSON()[\"statuses\"] == [\"DONE\", \"DONE\"] else \"MAYBE BAD SUBMISSION?\")\n",
    "\n",
    "# Play as the first agent against default \"shortest\" agent.\n",
    "env.run([\"/kaggle/working/submission.py\", \"random\"])\n",
    "env.render(mode=\"ipython\", width=800, height=600)"
   ]
  },
  {
   "cell_type": "markdown",
   "metadata": {},
   "source": [
    "# Debug/Train your Agent"
   ]
  },
  {
   "cell_type": "code",
   "execution_count": null,
   "metadata": {},
   "outputs": [],
   "source": [
    "# Play as first position against random agent.\n",
    "trainer = env.train([None, \"random\"])\n",
    "\n",
    "observation = trainer.reset()\n",
    "\n",
    "from random import choice\n",
    "def my_agent(obs):\n",
    "    action = {}\n",
    "    ship_id = list(obs.players[obs.player][2].keys())[0]\n",
    "    ship_action = choice([\"NORTH\", \"SOUTH\", \"EAST\", \"WEST\", None])\n",
    "    if ship_action is not None:\n",
    "        action[ship_id] = ship_action\n",
    "    return action\n",
    "\n",
    "while not env.done:\n",
    "    my_action = my_agent(observation)\n",
    "    print(\"My Action\", my_action)\n",
    "    observation, reward, done, info = trainer.step(my_action)\n",
    "    # env.render(mode=\"ipython\", width=100, height=90, header=False, controls=False)\n",
    "env.render()"
   ]
  },
  {
   "cell_type": "markdown",
   "metadata": {},
   "source": [
    "# Evaluate your Agent"
   ]
  },
  {
   "cell_type": "code",
   "execution_count": null,
   "metadata": {},
   "outputs": [],
   "source": [
    "def mean_reward(rewards):\n",
    "    wins = 0\n",
    "    ties = 0\n",
    "    loses = 0\n",
    "    for r in rewards:\n",
    "        r0 = 0 if r[0] is None else r[0]\n",
    "        r1 = 0 if r[1] is None else r[1]\n",
    "        if r0 > r1:\n",
    "            wins += 1\n",
    "        elif r1 > r0:\n",
    "            loses += 1\n",
    "        else:\n",
    "            ties += 1\n",
    "    return f'wins={wins/len(rewards)}, ties={ties/len(rewards)}, loses={loses/len(rewards)}'\n",
    "\n",
    "# Run multiple episodes to estimate its performance.\n",
    "# Setup agentExec as LOCAL to run in memory (runs faster) without process isolation.\n",
    "print(\"My Agent vs Random Agent:\", mean_reward(evaluate(\n",
    "    \"halite\",\n",
    "    [\"/kaggle/working/submission.py\", \"random\"],\n",
    "    num_episodes=10, configuration={\"agentExec\": \"LOCAL\"}\n",
    ")))"
   ]
  },
  {
   "cell_type": "markdown",
   "metadata": {},
   "source": [
    "# Submit to Competition\n",
    "\n",
    "1. Commit this kernel.\n",
    "2. View the commited version.\n",
    "3. Go to \"Data\" section and find submission.py file.\n",
    "4. Click \"Submit to Competition\"\n",
    "5. Go to [My Submissions](https://kaggle.com/c/halite/submissions) to view your score and episodes being played."
   ]
  }
 ],
 "metadata": {
  "kernelspec": {
   "display_name": "Python 3",
   "language": "python",
   "name": "python3"
  },
  "language_info": {
   "codemirror_mode": {
    "name": "ipython",
    "version": 3
   },
   "file_extension": ".py",
   "mimetype": "text/x-python",
   "name": "python",
   "nbconvert_exporter": "python",
   "pygments_lexer": "ipython3",
   "version": "3.7.0"
  }
 },
 "nbformat": 4,
 "nbformat_minor": 4
}
